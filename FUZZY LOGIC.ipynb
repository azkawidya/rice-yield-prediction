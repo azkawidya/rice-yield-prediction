{
  "nbformat": 4,
  "nbformat_minor": 0,
  "metadata": {
    "colab": {
      "provenance": []
    },
    "kernelspec": {
      "name": "python3",
      "display_name": "Python 3"
    },
    "language_info": {
      "name": "python"
    }
  },
  "cells": [
    {
      "cell_type": "markdown",
      "source": [
        "# **Analisis Prediksi Hasil Panen Padi di Sumatera Menggunakan Sistem Fuzzy Mamdani dan Sugeno Berdasarkan Curah Hujan dan Kelembapan**"
      ],
      "metadata": {
        "id": "fGz7zB6AqEdi"
      }
    },
    {
      "cell_type": "markdown",
      "source": [
        "## **Pendahuluan dan Pemaparan Data**\n",
        "Produksi padi merupakan salah satu sektor penting dalam pertanian di Indonesia, terutama di wilayah Sumatera. Berbagai faktor, seperti curah hujan, kelembapan, dan suhu, dapat memengaruhi hasil panen padi. Untuk memahami hubungan antara faktor-faktor ini dan produksi padi, diperlukan metode analisis yang efektif.\n",
        "\n",
        "Sistem fuzzy adalah pendekatan yang dapat digunakan untuk menangani ketidakpastian dan variabilitas dalam analisis data. Dalam penelitian ini, kami menerapkan dua jenis sistem fuzzy, yaitu metode Mamdani dan Sugeno, untuk menganalisis data produksi padi di berbagai provinsi di Sumatera.\n",
        "\n",
        "**Paparan, Statistik, dan Sumber dari dataset yang digunakan**\n",
        "\n",
        "Dataset ini berasal dari Kaggle dengan judul \"Dataset Tanaman Padi Sumatera, Indonesia\" yang mencakup informasi historis mengenai produksi padi di berbagai provinsi di Sumatera, Indonesia. Dataset ini mencakup informasi sebagai berikut.\n",
        "\n",
        "- Provinsi: Nama provinsi tempat produksi padi.\n",
        "- Tahun: Tahun pengumpulan data.\n",
        "- Produksi: Jumlah produksi padi dalam ton.\n",
        "- Luas Panen: Luas lahan yang dipanen untuk padi dalam hektar.\n",
        "- Curah Hujan: Rata-rata curah hujan dalam mm yang diterima selama periode tertentu.\n",
        "- Kelembapan: Rata-rata kelembapan (%).\n",
        "- Suhu Rata-rata: Rata-rata suhu di daerah tersebut (°C)."
      ],
      "metadata": {
        "id": "M2z7e7x5qPtN"
      }
    },
    {
      "cell_type": "code",
      "execution_count": null,
      "metadata": {
        "colab": {
          "base_uri": "https://localhost:8080/"
        },
        "id": "MwdkMfMrqJyg",
        "outputId": "8811c5b9-cddc-4c50-8069-075d992900de"
      },
      "outputs": [
        {
          "output_type": "stream",
          "name": "stdout",
          "text": [
            "Collecting scikit-fuzzy\n",
            "  Downloading scikit_fuzzy-0.5.0-py2.py3-none-any.whl.metadata (2.6 kB)\n",
            "Downloading scikit_fuzzy-0.5.0-py2.py3-none-any.whl (920 kB)\n",
            "\u001b[?25l   \u001b[90m━━━━━━━━━━━━━━━━━━━━━━━━━━━━━━━━━━━━━━━━\u001b[0m \u001b[32m0.0/920.8 kB\u001b[0m \u001b[31m?\u001b[0m eta \u001b[36m-:--:--\u001b[0m\r\u001b[2K   \u001b[90m━━━━━━━━━━━━━━━━━━━━━━━━━━━━━━━━━━━━━━━━\u001b[0m \u001b[32m920.8/920.8 kB\u001b[0m \u001b[31m29.2 MB/s\u001b[0m eta \u001b[36m0:00:00\u001b[0m\n",
            "\u001b[?25hInstalling collected packages: scikit-fuzzy\n",
            "Successfully installed scikit-fuzzy-0.5.0\n"
          ]
        }
      ],
      "source": [
        "!pip install scikit-fuzzy"
      ]
    },
    {
      "cell_type": "code",
      "source": [
        "import numpy as np\n",
        "import pandas as pd\n",
        "import skfuzzy as fuzz\n",
        "import matplotlib.pyplot as plt\n",
        "from tqdm.notebook import tqdm\n",
        "from skfuzzy import control as ctrl"
      ],
      "metadata": {
        "id": "fPATBybcqMse"
      },
      "execution_count": null,
      "outputs": []
    },
    {
      "cell_type": "code",
      "source": [
        "df = pd.read_csv('/content/Data_Tanaman_Padi_Sumatera_version_1.csv')\n",
        "df.head()"
      ],
      "metadata": {
        "colab": {
          "base_uri": "https://localhost:8080/",
          "height": 223
        },
        "id": "JCXB2nXyqSpX",
        "outputId": "720465a2-d92c-4f63-aacd-d4715f4054b7"
      },
      "execution_count": null,
      "outputs": [
        {
          "output_type": "execute_result",
          "data": {
            "text/plain": [
              "  Provinsi  Tahun   Produksi  Luas Panen  Curah hujan  Kelembapan  \\\n",
              "0     Aceh   1993  1329536.0    323589.0       1627.0       82.00   \n",
              "1     Aceh   1994  1299699.0    329041.0       1521.0       82.12   \n",
              "2     Aceh   1995  1382905.0    339253.0       1476.0       82.72   \n",
              "3     Aceh   1996  1419128.0    348223.0       1557.0       83.00   \n",
              "4     Aceh   1997  1368074.0    337561.0       1339.0       82.46   \n",
              "\n",
              "   Suhu rata-rata  \n",
              "0           26.06  \n",
              "1           26.92  \n",
              "2           26.27  \n",
              "3           26.08  \n",
              "4           26.31  "
            ],
            "text/html": [
              "\n",
              "  <div id=\"df-3acf22bc-40a0-43cc-adcc-d32bcba482f9\" class=\"colab-df-container\">\n",
              "    <div>\n",
              "<style scoped>\n",
              "    .dataframe tbody tr th:only-of-type {\n",
              "        vertical-align: middle;\n",
              "    }\n",
              "\n",
              "    .dataframe tbody tr th {\n",
              "        vertical-align: top;\n",
              "    }\n",
              "\n",
              "    .dataframe thead th {\n",
              "        text-align: right;\n",
              "    }\n",
              "</style>\n",
              "<table border=\"1\" class=\"dataframe\">\n",
              "  <thead>\n",
              "    <tr style=\"text-align: right;\">\n",
              "      <th></th>\n",
              "      <th>Provinsi</th>\n",
              "      <th>Tahun</th>\n",
              "      <th>Produksi</th>\n",
              "      <th>Luas Panen</th>\n",
              "      <th>Curah hujan</th>\n",
              "      <th>Kelembapan</th>\n",
              "      <th>Suhu rata-rata</th>\n",
              "    </tr>\n",
              "  </thead>\n",
              "  <tbody>\n",
              "    <tr>\n",
              "      <th>0</th>\n",
              "      <td>Aceh</td>\n",
              "      <td>1993</td>\n",
              "      <td>1329536.0</td>\n",
              "      <td>323589.0</td>\n",
              "      <td>1627.0</td>\n",
              "      <td>82.00</td>\n",
              "      <td>26.06</td>\n",
              "    </tr>\n",
              "    <tr>\n",
              "      <th>1</th>\n",
              "      <td>Aceh</td>\n",
              "      <td>1994</td>\n",
              "      <td>1299699.0</td>\n",
              "      <td>329041.0</td>\n",
              "      <td>1521.0</td>\n",
              "      <td>82.12</td>\n",
              "      <td>26.92</td>\n",
              "    </tr>\n",
              "    <tr>\n",
              "      <th>2</th>\n",
              "      <td>Aceh</td>\n",
              "      <td>1995</td>\n",
              "      <td>1382905.0</td>\n",
              "      <td>339253.0</td>\n",
              "      <td>1476.0</td>\n",
              "      <td>82.72</td>\n",
              "      <td>26.27</td>\n",
              "    </tr>\n",
              "    <tr>\n",
              "      <th>3</th>\n",
              "      <td>Aceh</td>\n",
              "      <td>1996</td>\n",
              "      <td>1419128.0</td>\n",
              "      <td>348223.0</td>\n",
              "      <td>1557.0</td>\n",
              "      <td>83.00</td>\n",
              "      <td>26.08</td>\n",
              "    </tr>\n",
              "    <tr>\n",
              "      <th>4</th>\n",
              "      <td>Aceh</td>\n",
              "      <td>1997</td>\n",
              "      <td>1368074.0</td>\n",
              "      <td>337561.0</td>\n",
              "      <td>1339.0</td>\n",
              "      <td>82.46</td>\n",
              "      <td>26.31</td>\n",
              "    </tr>\n",
              "  </tbody>\n",
              "</table>\n",
              "</div>\n",
              "    <div class=\"colab-df-buttons\">\n",
              "\n",
              "  <div class=\"colab-df-container\">\n",
              "    <button class=\"colab-df-convert\" onclick=\"convertToInteractive('df-3acf22bc-40a0-43cc-adcc-d32bcba482f9')\"\n",
              "            title=\"Convert this dataframe to an interactive table.\"\n",
              "            style=\"display:none;\">\n",
              "\n",
              "  <svg xmlns=\"http://www.w3.org/2000/svg\" height=\"24px\" viewBox=\"0 -960 960 960\">\n",
              "    <path d=\"M120-120v-720h720v720H120Zm60-500h600v-160H180v160Zm220 220h160v-160H400v160Zm0 220h160v-160H400v160ZM180-400h160v-160H180v160Zm440 0h160v-160H620v160ZM180-180h160v-160H180v160Zm440 0h160v-160H620v160Z\"/>\n",
              "  </svg>\n",
              "    </button>\n",
              "\n",
              "  <style>\n",
              "    .colab-df-container {\n",
              "      display:flex;\n",
              "      gap: 12px;\n",
              "    }\n",
              "\n",
              "    .colab-df-convert {\n",
              "      background-color: #E8F0FE;\n",
              "      border: none;\n",
              "      border-radius: 50%;\n",
              "      cursor: pointer;\n",
              "      display: none;\n",
              "      fill: #1967D2;\n",
              "      height: 32px;\n",
              "      padding: 0 0 0 0;\n",
              "      width: 32px;\n",
              "    }\n",
              "\n",
              "    .colab-df-convert:hover {\n",
              "      background-color: #E2EBFA;\n",
              "      box-shadow: 0px 1px 2px rgba(60, 64, 67, 0.3), 0px 1px 3px 1px rgba(60, 64, 67, 0.15);\n",
              "      fill: #174EA6;\n",
              "    }\n",
              "\n",
              "    .colab-df-buttons div {\n",
              "      margin-bottom: 4px;\n",
              "    }\n",
              "\n",
              "    [theme=dark] .colab-df-convert {\n",
              "      background-color: #3B4455;\n",
              "      fill: #D2E3FC;\n",
              "    }\n",
              "\n",
              "    [theme=dark] .colab-df-convert:hover {\n",
              "      background-color: #434B5C;\n",
              "      box-shadow: 0px 1px 3px 1px rgba(0, 0, 0, 0.15);\n",
              "      filter: drop-shadow(0px 1px 2px rgba(0, 0, 0, 0.3));\n",
              "      fill: #FFFFFF;\n",
              "    }\n",
              "  </style>\n",
              "\n",
              "    <script>\n",
              "      const buttonEl =\n",
              "        document.querySelector('#df-3acf22bc-40a0-43cc-adcc-d32bcba482f9 button.colab-df-convert');\n",
              "      buttonEl.style.display =\n",
              "        google.colab.kernel.accessAllowed ? 'block' : 'none';\n",
              "\n",
              "      async function convertToInteractive(key) {\n",
              "        const element = document.querySelector('#df-3acf22bc-40a0-43cc-adcc-d32bcba482f9');\n",
              "        const dataTable =\n",
              "          await google.colab.kernel.invokeFunction('convertToInteractive',\n",
              "                                                    [key], {});\n",
              "        if (!dataTable) return;\n",
              "\n",
              "        const docLinkHtml = 'Like what you see? Visit the ' +\n",
              "          '<a target=\"_blank\" href=https://colab.research.google.com/notebooks/data_table.ipynb>data table notebook</a>'\n",
              "          + ' to learn more about interactive tables.';\n",
              "        element.innerHTML = '';\n",
              "        dataTable['output_type'] = 'display_data';\n",
              "        await google.colab.output.renderOutput(dataTable, element);\n",
              "        const docLink = document.createElement('div');\n",
              "        docLink.innerHTML = docLinkHtml;\n",
              "        element.appendChild(docLink);\n",
              "      }\n",
              "    </script>\n",
              "  </div>\n",
              "\n",
              "\n",
              "<div id=\"df-e45a872a-62b5-4f46-a7be-264f72596e32\">\n",
              "  <button class=\"colab-df-quickchart\" onclick=\"quickchart('df-e45a872a-62b5-4f46-a7be-264f72596e32')\"\n",
              "            title=\"Suggest charts\"\n",
              "            style=\"display:none;\">\n",
              "\n",
              "<svg xmlns=\"http://www.w3.org/2000/svg\" height=\"24px\"viewBox=\"0 0 24 24\"\n",
              "     width=\"24px\">\n",
              "    <g>\n",
              "        <path d=\"M19 3H5c-1.1 0-2 .9-2 2v14c0 1.1.9 2 2 2h14c1.1 0 2-.9 2-2V5c0-1.1-.9-2-2-2zM9 17H7v-7h2v7zm4 0h-2V7h2v10zm4 0h-2v-4h2v4z\"/>\n",
              "    </g>\n",
              "</svg>\n",
              "  </button>\n",
              "\n",
              "<style>\n",
              "  .colab-df-quickchart {\n",
              "      --bg-color: #E8F0FE;\n",
              "      --fill-color: #1967D2;\n",
              "      --hover-bg-color: #E2EBFA;\n",
              "      --hover-fill-color: #174EA6;\n",
              "      --disabled-fill-color: #AAA;\n",
              "      --disabled-bg-color: #DDD;\n",
              "  }\n",
              "\n",
              "  [theme=dark] .colab-df-quickchart {\n",
              "      --bg-color: #3B4455;\n",
              "      --fill-color: #D2E3FC;\n",
              "      --hover-bg-color: #434B5C;\n",
              "      --hover-fill-color: #FFFFFF;\n",
              "      --disabled-bg-color: #3B4455;\n",
              "      --disabled-fill-color: #666;\n",
              "  }\n",
              "\n",
              "  .colab-df-quickchart {\n",
              "    background-color: var(--bg-color);\n",
              "    border: none;\n",
              "    border-radius: 50%;\n",
              "    cursor: pointer;\n",
              "    display: none;\n",
              "    fill: var(--fill-color);\n",
              "    height: 32px;\n",
              "    padding: 0;\n",
              "    width: 32px;\n",
              "  }\n",
              "\n",
              "  .colab-df-quickchart:hover {\n",
              "    background-color: var(--hover-bg-color);\n",
              "    box-shadow: 0 1px 2px rgba(60, 64, 67, 0.3), 0 1px 3px 1px rgba(60, 64, 67, 0.15);\n",
              "    fill: var(--button-hover-fill-color);\n",
              "  }\n",
              "\n",
              "  .colab-df-quickchart-complete:disabled,\n",
              "  .colab-df-quickchart-complete:disabled:hover {\n",
              "    background-color: var(--disabled-bg-color);\n",
              "    fill: var(--disabled-fill-color);\n",
              "    box-shadow: none;\n",
              "  }\n",
              "\n",
              "  .colab-df-spinner {\n",
              "    border: 2px solid var(--fill-color);\n",
              "    border-color: transparent;\n",
              "    border-bottom-color: var(--fill-color);\n",
              "    animation:\n",
              "      spin 1s steps(1) infinite;\n",
              "  }\n",
              "\n",
              "  @keyframes spin {\n",
              "    0% {\n",
              "      border-color: transparent;\n",
              "      border-bottom-color: var(--fill-color);\n",
              "      border-left-color: var(--fill-color);\n",
              "    }\n",
              "    20% {\n",
              "      border-color: transparent;\n",
              "      border-left-color: var(--fill-color);\n",
              "      border-top-color: var(--fill-color);\n",
              "    }\n",
              "    30% {\n",
              "      border-color: transparent;\n",
              "      border-left-color: var(--fill-color);\n",
              "      border-top-color: var(--fill-color);\n",
              "      border-right-color: var(--fill-color);\n",
              "    }\n",
              "    40% {\n",
              "      border-color: transparent;\n",
              "      border-right-color: var(--fill-color);\n",
              "      border-top-color: var(--fill-color);\n",
              "    }\n",
              "    60% {\n",
              "      border-color: transparent;\n",
              "      border-right-color: var(--fill-color);\n",
              "    }\n",
              "    80% {\n",
              "      border-color: transparent;\n",
              "      border-right-color: var(--fill-color);\n",
              "      border-bottom-color: var(--fill-color);\n",
              "    }\n",
              "    90% {\n",
              "      border-color: transparent;\n",
              "      border-bottom-color: var(--fill-color);\n",
              "    }\n",
              "  }\n",
              "</style>\n",
              "\n",
              "  <script>\n",
              "    async function quickchart(key) {\n",
              "      const quickchartButtonEl =\n",
              "        document.querySelector('#' + key + ' button');\n",
              "      quickchartButtonEl.disabled = true;  // To prevent multiple clicks.\n",
              "      quickchartButtonEl.classList.add('colab-df-spinner');\n",
              "      try {\n",
              "        const charts = await google.colab.kernel.invokeFunction(\n",
              "            'suggestCharts', [key], {});\n",
              "      } catch (error) {\n",
              "        console.error('Error during call to suggestCharts:', error);\n",
              "      }\n",
              "      quickchartButtonEl.classList.remove('colab-df-spinner');\n",
              "      quickchartButtonEl.classList.add('colab-df-quickchart-complete');\n",
              "    }\n",
              "    (() => {\n",
              "      let quickchartButtonEl =\n",
              "        document.querySelector('#df-e45a872a-62b5-4f46-a7be-264f72596e32 button');\n",
              "      quickchartButtonEl.style.display =\n",
              "        google.colab.kernel.accessAllowed ? 'block' : 'none';\n",
              "    })();\n",
              "  </script>\n",
              "</div>\n",
              "\n",
              "    </div>\n",
              "  </div>\n"
            ],
            "application/vnd.google.colaboratory.intrinsic+json": {
              "type": "dataframe",
              "variable_name": "df",
              "summary": "{\n  \"name\": \"df\",\n  \"rows\": 224,\n  \"fields\": [\n    {\n      \"column\": \"Provinsi\",\n      \"properties\": {\n        \"dtype\": \"category\",\n        \"num_unique_values\": 8,\n        \"samples\": [\n          \"Sumatera Utara\",\n          \"Sumatera Selatan\",\n          \"Aceh\"\n        ],\n        \"semantic_type\": \"\",\n        \"description\": \"\"\n      }\n    },\n    {\n      \"column\": \"Tahun\",\n      \"properties\": {\n        \"dtype\": \"number\",\n        \"std\": 8,\n        \"min\": 1993,\n        \"max\": 2020,\n        \"num_unique_values\": 28,\n        \"samples\": [\n          2002,\n          2018,\n          2001\n        ],\n        \"semantic_type\": \"\",\n        \"description\": \"\"\n      }\n    },\n    {\n      \"column\": \"Produksi\",\n      \"properties\": {\n        \"dtype\": \"number\",\n        \"std\": 1161387.3940689566,\n        \"min\": 42938.0,\n        \"max\": 4881089.0,\n        \"num_unique_values\": 224,\n        \"samples\": [\n          1314165.0,\n          436297.0,\n          550277.0\n        ],\n        \"semantic_type\": \"\",\n        \"description\": \"\"\n      }\n    },\n    {\n      \"column\": \"Luas Panen\",\n      \"properties\": {\n        \"dtype\": \"number\",\n        \"std\": 232751.16198748833,\n        \"min\": 63142.04,\n        \"max\": 872737.0,\n        \"num_unique_values\": 224,\n        \"samples\": [\n          315131.0,\n          146133.0,\n          178766.0\n        ],\n        \"semantic_type\": \"\",\n        \"description\": \"\"\n      }\n    },\n    {\n      \"column\": \"Curah hujan\",\n      \"properties\": {\n        \"dtype\": \"number\",\n        \"std\": 1031.9726245625448,\n        \"min\": 222.5,\n        \"max\": 5522.0,\n        \"num_unique_values\": 220,\n        \"samples\": [\n          1781.0,\n          2368.2,\n          3123.8\n        ],\n        \"semantic_type\": \"\",\n        \"description\": \"\"\n      }\n    },\n    {\n      \"column\": \"Kelembapan\",\n      \"properties\": {\n        \"dtype\": \"number\",\n        \"std\": 4.878679857345064,\n        \"min\": 54.2,\n        \"max\": 90.6,\n        \"num_unique_values\": 180,\n        \"samples\": [\n          79.6,\n          78.55,\n          82.52\n        ],\n        \"semantic_type\": \"\",\n        \"description\": \"\"\n      }\n    },\n    {\n      \"column\": \"Suhu rata-rata\",\n      \"properties\": {\n        \"dtype\": \"number\",\n        \"std\": 1.1970410749183342,\n        \"min\": 22.19,\n        \"max\": 29.85,\n        \"num_unique_values\": 136,\n        \"samples\": [\n          25.98,\n          24.82,\n          25.8\n        ],\n        \"semantic_type\": \"\",\n        \"description\": \"\"\n      }\n    }\n  ]\n}"
            }
          },
          "metadata": {},
          "execution_count": 5
        }
      ]
    },
    {
      "cell_type": "code",
      "source": [
        "df.info()"
      ],
      "metadata": {
        "colab": {
          "base_uri": "https://localhost:8080/"
        },
        "id": "_MDROOsdqUnP",
        "outputId": "577580d8-dc0e-4a68-df22-0929f136e18a"
      },
      "execution_count": null,
      "outputs": [
        {
          "output_type": "stream",
          "name": "stdout",
          "text": [
            "<class 'pandas.core.frame.DataFrame'>\n",
            "RangeIndex: 224 entries, 0 to 223\n",
            "Data columns (total 7 columns):\n",
            " #   Column          Non-Null Count  Dtype  \n",
            "---  ------          --------------  -----  \n",
            " 0   Provinsi        224 non-null    object \n",
            " 1   Tahun           224 non-null    int64  \n",
            " 2   Produksi        224 non-null    float64\n",
            " 3   Luas Panen      224 non-null    float64\n",
            " 4   Curah hujan     224 non-null    float64\n",
            " 5   Kelembapan      224 non-null    float64\n",
            " 6   Suhu rata-rata  224 non-null    float64\n",
            "dtypes: float64(5), int64(1), object(1)\n",
            "memory usage: 12.4+ KB\n"
          ]
        }
      ]
    },
    {
      "cell_type": "code",
      "source": [
        "df.isnull().sum()"
      ],
      "metadata": {
        "colab": {
          "base_uri": "https://localhost:8080/",
          "height": 303
        },
        "id": "dJykarNIqc4U",
        "outputId": "28cca138-11d9-41dd-9013-270b9439b919"
      },
      "execution_count": null,
      "outputs": [
        {
          "output_type": "execute_result",
          "data": {
            "text/plain": [
              "Provinsi          0\n",
              "Tahun             0\n",
              "Produksi          0\n",
              "Luas Panen        0\n",
              "Curah hujan       0\n",
              "Kelembapan        0\n",
              "Suhu rata-rata    0\n",
              "dtype: int64"
            ],
            "text/html": [
              "<div>\n",
              "<style scoped>\n",
              "    .dataframe tbody tr th:only-of-type {\n",
              "        vertical-align: middle;\n",
              "    }\n",
              "\n",
              "    .dataframe tbody tr th {\n",
              "        vertical-align: top;\n",
              "    }\n",
              "\n",
              "    .dataframe thead th {\n",
              "        text-align: right;\n",
              "    }\n",
              "</style>\n",
              "<table border=\"1\" class=\"dataframe\">\n",
              "  <thead>\n",
              "    <tr style=\"text-align: right;\">\n",
              "      <th></th>\n",
              "      <th>0</th>\n",
              "    </tr>\n",
              "  </thead>\n",
              "  <tbody>\n",
              "    <tr>\n",
              "      <th>Provinsi</th>\n",
              "      <td>0</td>\n",
              "    </tr>\n",
              "    <tr>\n",
              "      <th>Tahun</th>\n",
              "      <td>0</td>\n",
              "    </tr>\n",
              "    <tr>\n",
              "      <th>Produksi</th>\n",
              "      <td>0</td>\n",
              "    </tr>\n",
              "    <tr>\n",
              "      <th>Luas Panen</th>\n",
              "      <td>0</td>\n",
              "    </tr>\n",
              "    <tr>\n",
              "      <th>Curah hujan</th>\n",
              "      <td>0</td>\n",
              "    </tr>\n",
              "    <tr>\n",
              "      <th>Kelembapan</th>\n",
              "      <td>0</td>\n",
              "    </tr>\n",
              "    <tr>\n",
              "      <th>Suhu rata-rata</th>\n",
              "      <td>0</td>\n",
              "    </tr>\n",
              "  </tbody>\n",
              "</table>\n",
              "</div><br><label><b>dtype:</b> int64</label>"
            ]
          },
          "metadata": {},
          "execution_count": 7
        }
      ]
    },
    {
      "cell_type": "code",
      "source": [
        "df.duplicated().sum()"
      ],
      "metadata": {
        "colab": {
          "base_uri": "https://localhost:8080/"
        },
        "id": "e4J6K-hRqfas",
        "outputId": "afe9aa14-5b0d-453d-c3a4-dc9c8d2aff44"
      },
      "execution_count": null,
      "outputs": [
        {
          "output_type": "execute_result",
          "data": {
            "text/plain": [
              "0"
            ]
          },
          "metadata": {},
          "execution_count": 8
        }
      ]
    },
    {
      "cell_type": "markdown",
      "source": [
        "## **Metode dan Eksperimen**\n",
        "\n",
        "Penelitian ini menggunakan dua metode sistem fuzzy, yaitu Mamdani dan Sugeno, untuk menganalisis data produksi padi berdasarkan variabel-variabel input yang relevan.\n",
        "\n",
        "**Metode Mamdani**\n",
        "\n",
        "Metode Mamdani dikembangkan oleh Ebrahim Mamdani pada tahun 1975, menggunakan fungsi keanggotaan untuk mendefinisikan variabel fuzzy dan menghasilkan output berdasarkan aturan fuzzy yang ditetapkan. Dalam pendekatan ini, output berupa nilai fuzzy yang kemudian melalui proses defuzzifikasi menjadi nilai konkret. Langkah-langkah yang diambil adalah sebagai berikut.\n",
        "\n",
        "1. Definisi Variabel Fuzzy: Variabel input seperti curah hujan dan kelembapan didefinisikan dengan fungsi keanggotaan yang sesuai.\n",
        "2. Aturan Fuzzy: Beberapa aturan fuzzy dibuat untuk menghubungkan variabel input dengan output (produksi padi).\n",
        "3. Inferensi: Proses inferensi dilakukan berdasarkan aturan yang telah ditetapkan untuk menghasilkan nilai output fuzzy.\n",
        "4. Defuzzifikasi: Nilai fuzzy yang dihasilkan kemudian didefuzzifikasi untuk mendapatkan nilai output yang konkret.\n",
        "\n",
        "**Metode Sugeno**\n",
        "\n",
        "Metode Sugeno diperkenalkan oleh Takagi dan Sugeno, menghasilkan output sebagai fungsi linear dari variabel input, sehingga memungkinkan untuk mendapatkan hasil yang lebih langsung dan lebih mudah diintegrasikan dengan model matematis lainnya. Dalam metode Sugeno, output tidak melalui proses defuzzifikasi seperti pada Mamdani, melainkan langsung dihitung sebagai kombinasi linear dari input, yang membuat metode ini lebih efisien dalam aplikasi tertentu. Langkah-langkah yang diambil dalam metode Sugeno adalah sebagai berikut.\n",
        "\n",
        "1. Definisi Variabel Fuzzy: Seperti pada Mamdani, variabel input didefinisikan dengan fungsi keanggotaan.\n",
        "2. Aturan Fuzzy: Aturan dibuat dengan menentukan hubungan antara input dan output dalam bentuk fungsi linear.\n",
        "3. Inferensi: Proses inferensi dilakukan untuk menghitung output berdasarkan input yang diberikan.\n",
        "4. Aggregasi: Nilai output dari setiap aturan kemudian digabungkan untuk menghasilkan output akhir."
      ],
      "metadata": {
        "id": "fCqbrPDtqlHM"
      }
    },
    {
      "cell_type": "markdown",
      "source": [
        "## **Hasil dan Analisis**"
      ],
      "metadata": {
        "id": "TmA4jsUv9rzR"
      }
    },
    {
      "cell_type": "markdown",
      "source": [
        "#### **Fuzzy Mamdani**"
      ],
      "metadata": {
        "id": "Im7J7OwA7Yxe"
      }
    },
    {
      "cell_type": "markdown",
      "source": [
        "#### **Fungsi Keanggotaan**"
      ],
      "metadata": {
        "id": "JNu5Juy_AtRW"
      }
    },
    {
      "cell_type": "code",
      "source": [
        "# Definisi Antecedent untuk Curah Hujan\n",
        "curah_hujan_range = np.arange(0, 3001, 1)\n",
        "curah_hujan = ctrl.Antecedent(curah_hujan_range, 'Curah_hujan')\n",
        "\n",
        "# Definisi fungsi keanggotaan\n",
        "curah_hujan['Rendah'] = fuzz.trapmf(curah_hujan.universe, [0, 0, 1000, 1500])\n",
        "curah_hujan['Sedang'] = fuzz.trimf(curah_hujan.universe, [1000, 1500, 2000])\n",
        "curah_hujan['Tinggi'] = fuzz.trapmf(curah_hujan.universe, [1500, 2000, 3000, 3000])\n",
        "\n",
        "curah_hujan.view()"
      ],
      "metadata": {
        "colab": {
          "base_uri": "https://localhost:8080/",
          "height": 451
        },
        "id": "4MOUW3i8W4QR",
        "outputId": "1aec4b49-db68-4c3e-e22d-002112749385"
      },
      "execution_count": null,
      "outputs": [
        {
          "output_type": "display_data",
          "data": {
            "text/plain": [
              "<Figure size 640x480 with 1 Axes>"
            ],
            "image/png": "[encoded data removed]"
          },
          "metadata": {}
        }
      ]
    },
    {
      "cell_type": "markdown",
      "source": [
        "Terdapat tiga nilai linguistik pada variabel input `curah_hujan`, yaitu:\n",
        "1. Rendah\n",
        "<p> Merepresentasikan curah hujan yang rendah. Fungsi keanggotaannya trapesium (trapmf). Range [0, 0, 1000, 1500], berarti nilai keanggotaan penuh (1.0) adalah dari 0 hingga 1000, fungsi turun dari 1.0 ke 0.0 saat bernilai 1000 hingga 1500, dan keanggotaan sama dengan 0 jika di luar 1500.\n",
        "2. Sedang\n",
        "<p> Merepresentasikan curah hujan yang sedang. Fungsi keanggotaannya segitiga (trimf). Range [1000, 1500, 2000], berarti nilai keanggotaan penuh (1.0) adalah di titik 1500, fungsi naik dari 0.0 ke 1.0 saat bernilai 1000 hingga 1500, fungsi turun dari 1.0 ke 0.0 saat bernilai 1500 hingga 2000, dan keanggotaan sama dengan 0 jika di luar range.\n",
        "3. Tinggi\n",
        "<p> Merepresentasikan curah hujan yang tinggi. Fungsi keanggotaannya trapesium (trapmf). Range [1500, 2000, 3000, 3000], berarti fungsi naik dari 0.0 ke 1.0 saat bernilai 1500 hingga 2000, nilai keanggotaan penuh (1.0) adalah dari 2000 hingga 3000, dan keanggotaan sama dengan 0 jika di bawah 1500."
      ],
      "metadata": {
        "id": "3LqVr1oaBOk2"
      }
    },
    {
      "cell_type": "code",
      "source": [
        "# Definisi Antecedent untuk Kelembapan\n",
        "kelembapan = ctrl.Antecedent(np.arange(0, 101, 1), 'Kelembapan')\n",
        "\n",
        "# Definisi fungsi keanggotaan\n",
        "kelembapan['Rendah'] = fuzz.trapmf(kelembapan.universe, [0, 0, 30, 60])\n",
        "kelembapan['Sedang'] = fuzz.trimf(kelembapan.universe, [30, 60, 80])\n",
        "kelembapan['Tinggi'] = fuzz.trapmf(kelembapan.universe, [60, 80, 100, 100])\n",
        "\n",
        "kelembapan.view()"
      ],
      "metadata": {
        "colab": {
          "base_uri": "https://localhost:8080/",
          "height": 451
        },
        "id": "DH3dwIf6W5ao",
        "outputId": "3735c723-9869-42c2-c5c3-e7a50b24116b"
      },
      "execution_count": null,
      "outputs": [
        {
          "output_type": "display_data",
          "data": {
            "text/plain": [
              "<Figure size 640x480 with 1 Axes>"
            ],
            "image/png": "[encoded data removed]"
          },
          "metadata": {}
        }
      ]
    },
    {
      "cell_type": "markdown",
      "source": [
        "Terdapat tiga nilai linguistik pada variabel input `kelembapan`, yaitu:\n",
        "1. Rendah\n",
        "<p> Merepresentasikan kelembapan yang rendah. Fungsi keanggotaannya trapesium (trapmf). Range [0, 0, 30, 60], berarti nilai keanggotaan penuh (1.0) adalah dari 0 hingga 30, fungsi menurun ke keanggotaan 0 mulai dari 30 hingga 60.\n",
        "2. Sedang\n",
        "<p> Merepresentasikan kelembapan yang sedang. Fungsi keanggotaannya segitiga (trimf). Range [30, 60, 80], berarti nilai keanggotaan penuh (1.0) adalah untuk kelembapan di 60, dan menurun secara simetris dari 30 ke 60 dan dari 60 ke 80.\n",
        "3. Tinggi\n",
        "<p>\n",
        "Merepresentasikan kelembapan yang tinggi. Fungsi keanggotaannya trapesium (trapmf). Range [60, 80, 100, 100], berarti nilai keanggotaan penuh (1.0) adalah untuk kelembapan di antara 80 dan 100, dan menurun ke keanggotaan 0 mulai dari 60 hingga 80."
      ],
      "metadata": {
        "id": "NjRSm_qYIVwU"
      }
    },
    {
      "cell_type": "code",
      "source": [
        "# Definisi Consequent untuk Produksi\n",
        "produksi_mamdani = ctrl.Consequent(np.arange(0, 3000001, 1), 'Produksi_Prediksi')\n",
        "\n",
        "# Definisi fungsi keanggotaan\n",
        "produksi_mamdani['Rendah'] = fuzz.trapmf(produksi_mamdani.universe, [0, 0, 500000, 1000000])\n",
        "produksi_mamdani['Sedang'] = fuzz.trimf(produksi_mamdani.universe, [500000, 1000000, 2000000])\n",
        "produksi_mamdani['Tinggi'] = fuzz.trapmf(produksi_mamdani.universe, [1000000, 2000000, 3000000, 3000000])\n",
        "\n",
        "produksi_mamdani.view()"
      ],
      "metadata": {
        "colab": {
          "base_uri": "https://localhost:8080/",
          "height": 451
        },
        "id": "ZLaKGo2hW8VJ",
        "outputId": "f0a0b1a4-b8a1-426e-d03f-e18b09c41204"
      },
      "execution_count": null,
      "outputs": [
        {
          "output_type": "display_data",
          "data": {
            "text/plain": [
              "<Figure size 640x480 with 1 Axes>"
            ],
            "image/png": "[encoded data removed]"
          },
          "metadata": {}
        }
      ]
    },
    {
      "cell_type": "markdown",
      "source": [
        "Terdapat tiga nilai linguistik pada variabel output `produksi_mamdani`, yaitu:\n",
        "1. Rendah\n",
        "<p> Merepresentasikan produksi yang rendah. Fungsi keanggotaannya trapesium (trapmf). Range [0, 0, 500000, 1000000], berarti nilai keanggotaan penuh (1.0) adalah untuk produksi di antara 0 dan 500000, dan menurun ke keanggotaan 0 mulai dari 500000 hingga 1000000.\n",
        "2. Sedang\n",
        "<p> Merepresentasikan produksi yang sedang. Fungsi keanggotaannya segitga (trimf). Range [500000, 1000000, 2000000], berarti nilai keanggotaan penuh (1.0) adalah untuk produksi di 1000000, dan menurun secara simetris dari 500000 ke 1000000 dan dari 1000000 ke 2000000.\n",
        "3. Tinggi\n",
        "<p> Merepresentasikan produksi yang tinggi. Fungsi keanggotaannya trapesium (trapmf). Range [1000000, 2000000, 3000000, 3000000], berarti nilai keanggotaan penuh (1.0) untuk produksi di antara 2000000 dan 3000000, dan menurun ke keanggotaan 0 mulai dari 1000000 hingga 2000000."
      ],
      "metadata": {
        "id": "xCYeQ2leQkP7"
      }
    },
    {
      "cell_type": "markdown",
      "source": [
        "#### **Fuzzy Rules**\n",
        "\n",
        "Aturan fuzzy berikut dikembangkan untuk menghubungkan variabel input (curah hujan dan kelembapan) dengan output (produksi padi) menggunakan sistem fuzzy Mamdani. Setiap aturan mengacu pada kombinasi level curah hujan dan kelembapan untuk menentukan tingkat produksi padi.\n",
        "\n",
        "1. Jika curah hujan rendah dan kelembapan rendah, maka produksi padi rendah.\n",
        "2. Jika curah hujan rendah dan kelembapan sedang, maka produksi padi rendah.\n",
        "3. Jika curah hujan rendah dan kelembapan tinggi, maka produksi padi sedang.\n",
        "4. Jika curah hujan sedang dan kelembapan rendah, maka produksi padi rendah.\n",
        "5. Jika curah hujan sedang dan kelembapan sedang, maka produksi padi sedang.\n",
        "6. Jika curah hujan sedang dan kelembapan tinggi, maka produksi padi tinggi.\n",
        "7. Jika curah hujan tinggi dan kelembapan rendah, maka produksi padi sedang.\n",
        "8. Jika curah hujan tinggi dan kelembapan sedang, maka produksi padi tinggi.\n",
        "9. Jika curah hujan tinggi dan kelembapan tinggi, maka produksi padi tinggi.\n"
      ],
      "metadata": {
        "id": "GYaJaiwrv8dq"
      }
    },
    {
      "cell_type": "code",
      "source": [
        "# Definisi rules\n",
        "rules = [\n",
        "    ctrl.Rule(curah_hujan['Rendah'] & kelembapan['Rendah'], produksi_mamdani['Rendah']),\n",
        "    ctrl.Rule(curah_hujan['Rendah'] & kelembapan['Sedang'], produksi_mamdani['Rendah']),\n",
        "    ctrl.Rule(curah_hujan['Rendah'] & kelembapan['Tinggi'], produksi_mamdani['Sedang']),\n",
        "    ctrl.Rule(curah_hujan['Sedang'] & kelembapan['Rendah'], produksi_mamdani['Rendah']),\n",
        "    ctrl.Rule(curah_hujan['Sedang'] & kelembapan['Sedang'], produksi_mamdani['Sedang']),\n",
        "    ctrl.Rule(curah_hujan['Sedang'] & kelembapan['Tinggi'], produksi_mamdani['Tinggi']),\n",
        "    ctrl.Rule(curah_hujan['Tinggi'] & kelembapan['Rendah'], produksi_mamdani['Sedang']),\n",
        "    ctrl.Rule(curah_hujan['Tinggi'] & kelembapan['Sedang'], produksi_mamdani['Tinggi']),\n",
        "    ctrl.Rule(curah_hujan['Tinggi'] & kelembapan['Tinggi'], produksi_mamdani['Tinggi']),\n",
        "]"
      ],
      "metadata": {
        "id": "FsUQeRtrXAHy"
      },
      "execution_count": null,
      "outputs": []
    },
    {
      "cell_type": "code",
      "source": [
        "# Membuat sistem kontrol\n",
        "quality_ctrl = ctrl.ControlSystem(rules)\n",
        "simulation = ctrl.ControlSystemSimulation(quality_ctrl)"
      ],
      "metadata": {
        "id": "b-XleTTBXGOs"
      },
      "execution_count": null,
      "outputs": []
    },
    {
      "cell_type": "markdown",
      "source": [
        "#### **Simulasi**"
      ],
      "metadata": {
        "id": "6B-2vEX19QW2"
      }
    },
    {
      "cell_type": "code",
      "source": [
        "# Simulasi Fuzzy Mamdani\n",
        "df_mamdani = df.copy()\n",
        "results = []\n",
        "\n",
        "for index, row in df_mamdani.iterrows():\n",
        "    simulation.input['Curah_hujan'] = row['Curah hujan']\n",
        "    simulation.input['Kelembapan'] = row['Kelembapan']\n",
        "    simulation.compute()\n",
        "\n",
        "    results.append({\n",
        "        'Provinsi': row['Provinsi'],\n",
        "        'Curah_Hujan': row['Curah hujan'],\n",
        "        'Kelembapan': row['Kelembapan'],\n",
        "        'Produksi_Prediksi': simulation.output['Produksi_Prediksi']\n",
        "    })"
      ],
      "metadata": {
        "id": "vnWDWVGnXPJe"
      },
      "execution_count": null,
      "outputs": []
    },
    {
      "cell_type": "code",
      "source": [
        "output_mamdani = pd.DataFrame(results)"
      ],
      "metadata": {
        "id": "O8YEZ0kd-EC-"
      },
      "execution_count": null,
      "outputs": []
    },
    {
      "cell_type": "markdown",
      "source": [
        "#### **Encoding**"
      ],
      "metadata": {
        "id": "B3NoLolx-K7V"
      }
    },
    {
      "cell_type": "code",
      "source": [
        "# Fungsi untuk mengkategorikan nilai Produksi\n",
        "def enc_produksi(val):\n",
        "    if val < 1000000:\n",
        "        return \"Rendah\"\n",
        "    elif 1000000 <= val < 2000000:\n",
        "        return \"Sedang\"\n",
        "    else:\n",
        "        return \"Tinggi\"\n",
        "\n",
        "# Fungsi untuk mengkategorikan Curah Hujan\n",
        "def enc_curah_hujan(val):\n",
        "    if val < 1000:\n",
        "        return \"Rendah\"\n",
        "    elif 1000 <= val < 2000:\n",
        "        return \"Sedang\"\n",
        "    else:\n",
        "        return \"Tinggi\"\n",
        "\n",
        "# Fungsi untuk mengkategorikan Kelembapan\n",
        "def enc_kelembapan(val):\n",
        "    if val < 70:\n",
        "        return \"Rendah\"\n",
        "    elif 70 <= val < 85:\n",
        "        return \"Sedang\"\n",
        "    else:\n",
        "        return \"Tinggi\""
      ],
      "metadata": {
        "id": "1ylnh2_rXJvY"
      },
      "execution_count": null,
      "outputs": []
    },
    {
      "cell_type": "code",
      "source": [
        "output_mamdani['Produksi_Prediksi'] = output_mamdani['Produksi_Prediksi'].apply(enc_produksi)\n",
        "output_mamdani['Curah_Hujan'] = output_mamdani['Curah_Hujan'].apply(enc_curah_hujan)\n",
        "output_mamdani['Kelembapan'] = output_mamdani['Kelembapan'].apply(enc_kelembapan)"
      ],
      "metadata": {
        "id": "MRxSuyq0XZA8"
      },
      "execution_count": null,
      "outputs": []
    },
    {
      "cell_type": "code",
      "source": [
        "# Menampilkan hasil prediksi\n",
        "output_mamdani.head()"
      ],
      "metadata": {
        "colab": {
          "base_uri": "https://localhost:8080/",
          "height": 206
        },
        "id": "3i8djyqzXlFv",
        "outputId": "b50b0bfb-09ee-412c-db49-ebe482ea37f8"
      },
      "execution_count": null,
      "outputs": [
        {
          "output_type": "execute_result",
          "data": {
            "text/plain": [
              "  Provinsi Curah_Hujan Kelembapan Produksi_Prediksi\n",
              "0     Aceh      Sedang     Sedang            Tinggi\n",
              "1     Aceh      Sedang     Sedang            Tinggi\n",
              "2     Aceh      Sedang     Sedang            Tinggi\n",
              "3     Aceh      Sedang     Sedang            Tinggi\n",
              "4     Aceh      Sedang     Sedang            Sedang"
            ],
            "text/html": [
              "\n",
              "  <div id=\"df-9a3c76c2-1771-47f2-9d4f-a24c9efdbf90\" class=\"colab-df-container\">\n",
              "    <div>\n",
              "<style scoped>\n",
              "    .dataframe tbody tr th:only-of-type {\n",
              "        vertical-align: middle;\n",
              "    }\n",
              "\n",
              "    .dataframe tbody tr th {\n",
              "        vertical-align: top;\n",
              "    }\n",
              "\n",
              "    .dataframe thead th {\n",
              "        text-align: right;\n",
              "    }\n",
              "</style>\n",
              "<table border=\"1\" class=\"dataframe\">\n",
              "  <thead>\n",
              "    <tr style=\"text-align: right;\">\n",
              "      <th></th>\n",
              "      <th>Provinsi</th>\n",
              "      <th>Curah_Hujan</th>\n",
              "      <th>Kelembapan</th>\n",
              "      <th>Produksi_Prediksi</th>\n",
              "    </tr>\n",
              "  </thead>\n",
              "  <tbody>\n",
              "    <tr>\n",
              "      <th>0</th>\n",
              "      <td>Aceh</td>\n",
              "      <td>Sedang</td>\n",
              "      <td>Sedang</td>\n",
              "      <td>Tinggi</td>\n",
              "    </tr>\n",
              "    <tr>\n",
              "      <th>1</th>\n",
              "      <td>Aceh</td>\n",
              "      <td>Sedang</td>\n",
              "      <td>Sedang</td>\n",
              "      <td>Tinggi</td>\n",
              "    </tr>\n",
              "    <tr>\n",
              "      <th>2</th>\n",
              "      <td>Aceh</td>\n",
              "      <td>Sedang</td>\n",
              "      <td>Sedang</td>\n",
              "      <td>Tinggi</td>\n",
              "    </tr>\n",
              "    <tr>\n",
              "      <th>3</th>\n",
              "      <td>Aceh</td>\n",
              "      <td>Sedang</td>\n",
              "      <td>Sedang</td>\n",
              "      <td>Tinggi</td>\n",
              "    </tr>\n",
              "    <tr>\n",
              "      <th>4</th>\n",
              "      <td>Aceh</td>\n",
              "      <td>Sedang</td>\n",
              "      <td>Sedang</td>\n",
              "      <td>Sedang</td>\n",
              "    </tr>\n",
              "  </tbody>\n",
              "</table>\n",
              "</div>\n",
              "    <div class=\"colab-df-buttons\">\n",
              "\n",
              "  <div class=\"colab-df-container\">\n",
              "    <button class=\"colab-df-convert\" onclick=\"convertToInteractive('df-9a3c76c2-1771-47f2-9d4f-a24c9efdbf90')\"\n",
              "            title=\"Convert this dataframe to an interactive table.\"\n",
              "            style=\"display:none;\">\n",
              "\n",
              "  <svg xmlns=\"http://www.w3.org/2000/svg\" height=\"24px\" viewBox=\"0 -960 960 960\">\n",
              "    <path d=\"M120-120v-720h720v720H120Zm60-500h600v-160H180v160Zm220 220h160v-160H400v160Zm0 220h160v-160H400v160ZM180-400h160v-160H180v160Zm440 0h160v-160H620v160ZM180-180h160v-160H180v160Zm440 0h160v-160H620v160Z\"/>\n",
              "  </svg>\n",
              "    </button>\n",
              "\n",
              "  <style>\n",
              "    .colab-df-container {\n",
              "      display:flex;\n",
              "      gap: 12px;\n",
              "    }\n",
              "\n",
              "    .colab-df-convert {\n",
              "      background-color: #E8F0FE;\n",
              "      border: none;\n",
              "      border-radius: 50%;\n",
              "      cursor: pointer;\n",
              "      display: none;\n",
              "      fill: #1967D2;\n",
              "      height: 32px;\n",
              "      padding: 0 0 0 0;\n",
              "      width: 32px;\n",
              "    }\n",
              "\n",
              "    .colab-df-convert:hover {\n",
              "      background-color: #E2EBFA;\n",
              "      box-shadow: 0px 1px 2px rgba(60, 64, 67, 0.3), 0px 1px 3px 1px rgba(60, 64, 67, 0.15);\n",
              "      fill: #174EA6;\n",
              "    }\n",
              "\n",
              "    .colab-df-buttons div {\n",
              "      margin-bottom: 4px;\n",
              "    }\n",
              "\n",
              "    [theme=dark] .colab-df-convert {\n",
              "      background-color: #3B4455;\n",
              "      fill: #D2E3FC;\n",
              "    }\n",
              "\n",
              "    [theme=dark] .colab-df-convert:hover {\n",
              "      background-color: #434B5C;\n",
              "      box-shadow: 0px 1px 3px 1px rgba(0, 0, 0, 0.15);\n",
              "      filter: drop-shadow(0px 1px 2px rgba(0, 0, 0, 0.3));\n",
              "      fill: #FFFFFF;\n",
              "    }\n",
              "  </style>\n",
              "\n",
              "    <script>\n",
              "      const buttonEl =\n",
              "        document.querySelector('#df-9a3c76c2-1771-47f2-9d4f-a24c9efdbf90 button.colab-df-convert');\n",
              "      buttonEl.style.display =\n",
              "        google.colab.kernel.accessAllowed ? 'block' : 'none';\n",
              "\n",
              "      async function convertToInteractive(key) {\n",
              "        const element = document.querySelector('#df-9a3c76c2-1771-47f2-9d4f-a24c9efdbf90');\n",
              "        const dataTable =\n",
              "          await google.colab.kernel.invokeFunction('convertToInteractive',\n",
              "                                                    [key], {});\n",
              "        if (!dataTable) return;\n",
              "\n",
              "        const docLinkHtml = 'Like what you see? Visit the ' +\n",
              "          '<a target=\"_blank\" href=https://colab.research.google.com/notebooks/data_table.ipynb>data table notebook</a>'\n",
              "          + ' to learn more about interactive tables.';\n",
              "        element.innerHTML = '';\n",
              "        dataTable['output_type'] = 'display_data';\n",
              "        await google.colab.output.renderOutput(dataTable, element);\n",
              "        const docLink = document.createElement('div');\n",
              "        docLink.innerHTML = docLinkHtml;\n",
              "        element.appendChild(docLink);\n",
              "      }\n",
              "    </script>\n",
              "  </div>\n",
              "\n",
              "\n",
              "<div id=\"df-2bdb5b06-81b1-4e95-920d-7fb5a958a7e2\">\n",
              "  <button class=\"colab-df-quickchart\" onclick=\"quickchart('df-2bdb5b06-81b1-4e95-920d-7fb5a958a7e2')\"\n",
              "            title=\"Suggest charts\"\n",
              "            style=\"display:none;\">\n",
              "\n",
              "<svg xmlns=\"http://www.w3.org/2000/svg\" height=\"24px\"viewBox=\"0 0 24 24\"\n",
              "     width=\"24px\">\n",
              "    <g>\n",
              "        <path d=\"M19 3H5c-1.1 0-2 .9-2 2v14c0 1.1.9 2 2 2h14c1.1 0 2-.9 2-2V5c0-1.1-.9-2-2-2zM9 17H7v-7h2v7zm4 0h-2V7h2v10zm4 0h-2v-4h2v4z\"/>\n",
              "    </g>\n",
              "</svg>\n",
              "  </button>\n",
              "\n",
              "<style>\n",
              "  .colab-df-quickchart {\n",
              "      --bg-color: #E8F0FE;\n",
              "      --fill-color: #1967D2;\n",
              "      --hover-bg-color: #E2EBFA;\n",
              "      --hover-fill-color: #174EA6;\n",
              "      --disabled-fill-color: #AAA;\n",
              "      --disabled-bg-color: #DDD;\n",
              "  }\n",
              "\n",
              "  [theme=dark] .colab-df-quickchart {\n",
              "      --bg-color: #3B4455;\n",
              "      --fill-color: #D2E3FC;\n",
              "      --hover-bg-color: #434B5C;\n",
              "      --hover-fill-color: #FFFFFF;\n",
              "      --disabled-bg-color: #3B4455;\n",
              "      --disabled-fill-color: #666;\n",
              "  }\n",
              "\n",
              "  .colab-df-quickchart {\n",
              "    background-color: var(--bg-color);\n",
              "    border: none;\n",
              "    border-radius: 50%;\n",
              "    cursor: pointer;\n",
              "    display: none;\n",
              "    fill: var(--fill-color);\n",
              "    height: 32px;\n",
              "    padding: 0;\n",
              "    width: 32px;\n",
              "  }\n",
              "\n",
              "  .colab-df-quickchart:hover {\n",
              "    background-color: var(--hover-bg-color);\n",
              "    box-shadow: 0 1px 2px rgba(60, 64, 67, 0.3), 0 1px 3px 1px rgba(60, 64, 67, 0.15);\n",
              "    fill: var(--button-hover-fill-color);\n",
              "  }\n",
              "\n",
              "  .colab-df-quickchart-complete:disabled,\n",
              "  .colab-df-quickchart-complete:disabled:hover {\n",
              "    background-color: var(--disabled-bg-color);\n",
              "    fill: var(--disabled-fill-color);\n",
              "    box-shadow: none;\n",
              "  }\n",
              "\n",
              "  .colab-df-spinner {\n",
              "    border: 2px solid var(--fill-color);\n",
              "    border-color: transparent;\n",
              "    border-bottom-color: var(--fill-color);\n",
              "    animation:\n",
              "      spin 1s steps(1) infinite;\n",
              "  }\n",
              "\n",
              "  @keyframes spin {\n",
              "    0% {\n",
              "      border-color: transparent;\n",
              "      border-bottom-color: var(--fill-color);\n",
              "      border-left-color: var(--fill-color);\n",
              "    }\n",
              "    20% {\n",
              "      border-color: transparent;\n",
              "      border-left-color: var(--fill-color);\n",
              "      border-top-color: var(--fill-color);\n",
              "    }\n",
              "    30% {\n",
              "      border-color: transparent;\n",
              "      border-left-color: var(--fill-color);\n",
              "      border-top-color: var(--fill-color);\n",
              "      border-right-color: var(--fill-color);\n",
              "    }\n",
              "    40% {\n",
              "      border-color: transparent;\n",
              "      border-right-color: var(--fill-color);\n",
              "      border-top-color: var(--fill-color);\n",
              "    }\n",
              "    60% {\n",
              "      border-color: transparent;\n",
              "      border-right-color: var(--fill-color);\n",
              "    }\n",
              "    80% {\n",
              "      border-color: transparent;\n",
              "      border-right-color: var(--fill-color);\n",
              "      border-bottom-color: var(--fill-color);\n",
              "    }\n",
              "    90% {\n",
              "      border-color: transparent;\n",
              "      border-bottom-color: var(--fill-color);\n",
              "    }\n",
              "  }\n",
              "</style>\n",
              "\n",
              "  <script>\n",
              "    async function quickchart(key) {\n",
              "      const quickchartButtonEl =\n",
              "        document.querySelector('#' + key + ' button');\n",
              "      quickchartButtonEl.disabled = true;  // To prevent multiple clicks.\n",
              "      quickchartButtonEl.classList.add('colab-df-spinner');\n",
              "      try {\n",
              "        const charts = await google.colab.kernel.invokeFunction(\n",
              "            'suggestCharts', [key], {});\n",
              "      } catch (error) {\n",
              "        console.error('Error during call to suggestCharts:', error);\n",
              "      }\n",
              "      quickchartButtonEl.classList.remove('colab-df-spinner');\n",
              "      quickchartButtonEl.classList.add('colab-df-quickchart-complete');\n",
              "    }\n",
              "    (() => {\n",
              "      let quickchartButtonEl =\n",
              "        document.querySelector('#df-2bdb5b06-81b1-4e95-920d-7fb5a958a7e2 button');\n",
              "      quickchartButtonEl.style.display =\n",
              "        google.colab.kernel.accessAllowed ? 'block' : 'none';\n",
              "    })();\n",
              "  </script>\n",
              "</div>\n",
              "\n",
              "    </div>\n",
              "  </div>\n"
            ],
            "application/vnd.google.colaboratory.intrinsic+json": {
              "type": "dataframe",
              "variable_name": "output_mamdani",
              "summary": "{\n  \"name\": \"output_mamdani\",\n  \"rows\": 224,\n  \"fields\": [\n    {\n      \"column\": \"Provinsi\",\n      \"properties\": {\n        \"dtype\": \"category\",\n        \"num_unique_values\": 8,\n        \"samples\": [\n          \"Sumatera Utara\",\n          \"Sumatera Selatan\",\n          \"Aceh\"\n        ],\n        \"semantic_type\": \"\",\n        \"description\": \"\"\n      }\n    },\n    {\n      \"column\": \"Curah_Hujan\",\n      \"properties\": {\n        \"dtype\": \"category\",\n        \"num_unique_values\": 3,\n        \"samples\": [\n          \"Sedang\",\n          \"Rendah\",\n          \"Tinggi\"\n        ],\n        \"semantic_type\": \"\",\n        \"description\": \"\"\n      }\n    },\n    {\n      \"column\": \"Kelembapan\",\n      \"properties\": {\n        \"dtype\": \"category\",\n        \"num_unique_values\": 3,\n        \"samples\": [\n          \"Sedang\",\n          \"Tinggi\",\n          \"Rendah\"\n        ],\n        \"semantic_type\": \"\",\n        \"description\": \"\"\n      }\n    },\n    {\n      \"column\": \"Produksi_Prediksi\",\n      \"properties\": {\n        \"dtype\": \"category\",\n        \"num_unique_values\": 2,\n        \"samples\": [\n          \"Sedang\",\n          \"Tinggi\"\n        ],\n        \"semantic_type\": \"\",\n        \"description\": \"\"\n      }\n    }\n  ]\n}"
            }
          },
          "metadata": {},
          "execution_count": 21
        }
      ]
    },
    {
      "cell_type": "code",
      "source": [
        "# Visualisasi hasil\n",
        "produksi_mamdani.view(sim=simulation)"
      ],
      "metadata": {
        "colab": {
          "base_uri": "https://localhost:8080/",
          "height": 451
        },
        "id": "gdQbMZZsXq4E",
        "outputId": "1890269b-5519-45dc-b524-a43390094e26"
      },
      "execution_count": null,
      "outputs": [
        {
          "output_type": "display_data",
          "data": {
            "text/plain": [
              "<Figure size 640x480 with 1 Axes>"
            ],
            "image/png": "[encoded data removed]"
          },
          "metadata": {}
        }
      ]
    },
    {
      "cell_type": "markdown",
      "source": [
        "### **Metode Sugeno**"
      ],
      "metadata": {
        "id": "H4zR7Z12Bxq5"
      }
    },
    {
      "cell_type": "markdown",
      "source": [
        "Dalam konteks dataset produksi padi, variabel input yang digunakan mencakup Curah Hujan, Kelembapan, yang masing-masing memiliki fungsi keanggotaan yang dirancang untuk mencerminkan karakteristiknya. Pada variabel Curah Hujan, fungsi keanggotaan dibagi menjadi tiga kategori: \"Rendah,\" \"Sedang,\" dan \"Tinggi.\" Fungsi curah_hujan_rendah, curah_hujan_sedang, dan curah_hujan_tinggi menerima nilai curah hujan sebagai input dan menghasilkan output berupa nilai crisp yang dihitung berdasarkan rumus linear yang ditentukan untuk masing-masing kategori. Output ini mencerminkan kontribusi curah hujan terhadap hasil panen, memberikan gambaran langsung tentang bagaimana curah hujan dalam kategori tertentu memengaruhi produksi padi.\n",
        "\n",
        "Untuk variabel Kelembapan, fungsi keanggotaan juga dikelompokkan menjadi tiga kategori: \"Rendah,\" \"Sedang,\" dan \"Tinggi.\" Fungsi kelembapan_rendah, kelembapan_sedang, dan kelembapan_tinggi menghitung output berdasarkan kelembapan yang terukur, dengan rumus linear yang sesuai untuk setiap kategori. Ini memungkinkan analisis yang lebih tepat tentang bagaimana kelembapan berdampak pada hasil panen. Dengan demikian, setiap variabel input dalam metode Sugeno berfungsi untuk menghitung output crisp yang mencerminkan pengaruh langsung dari faktor-faktor tersebut terhadap hasil produksi padi. Proses ini memastikan bahwa setiap keputusan yang diambil berdasarkan analisis fuzzy dapat dipahami dan diterapkan secara praktis dalam konteks pertanian."
      ],
      "metadata": {
        "id": "FunHFFROB1ZM"
      }
    },
    {
      "cell_type": "code",
      "source": [
        "def curah_hujan_rendah(curah_hujan_value):\n",
        "    return np.clip((1000 - curah_hujan_value) / 1000, 0, 1)\n",
        "\n",
        "def curah_hujan_sedang(curah_hujan_value):\n",
        "    return np.clip(1 - abs(curah_hujan_value - 1500) / 500, 0, 1)\n",
        "\n",
        "def curah_hujan_tinggi(curah_hujan_value):\n",
        "    return np.clip((curah_hujan_value - 2000) / 1000, 0, 1)\n",
        "\n",
        "# Metode Sugeno untuk Kelembapan\n",
        "def kelembapan_rendah(kelembapan_value):\n",
        "    return np.clip((60 - kelembapan_value) / 60, 0, 1)\n",
        "\n",
        "def kelembapan_sedang(kelembapan_value):\n",
        "    return np.clip(1 - abs(kelembapan_value - 75) / 15, 0, 1)\n",
        "\n",
        "def kelembapan_tinggi(kelembapan_value):\n",
        "    return np.clip((kelembapan_value - 85) / 15, 0, 1)"
      ],
      "metadata": {
        "id": "baJrtrmIXvn_"
      },
      "execution_count": null,
      "outputs": []
    },
    {
      "cell_type": "markdown",
      "source": [
        "#### **Inferensi dan Rules Fuzzy**"
      ],
      "metadata": {
        "id": "r6jUbIIdJuVs"
      }
    },
    {
      "cell_type": "markdown",
      "source": [
        "Inferensi dalam konteks metode Sugeno adalah proses di mana nilai input. Dalam hal ini Curah Hujan dan Kelembapan, digunakan untuk menghasilkan output melalui serangkaian aturan fuzzy yang telah ditentukan. Setiap aturan fuzzy mengkombinasikan nilai keanggotaan dari dua variabel input untuk menentukan kekuatan dari kondisi yang ada. Misalnya, jika Curah Hujan dikategorikan sebagai \"Rendah\" dan Kelembapan sebagai \"Tinggi,\" maka aturan ini akan menghasilkan nilai tertentu berdasarkan kombinasi tersebut.\n",
        "\n",
        "Dalam fungsi `inferensi_sugeno`, sembilan aturan fuzzy didefinisikan, mencakup semua kemungkinan kombinasi kategori dari kedua variabel, yaitu \"Rendah,\" \"Sedang,\" dan \"Tinggi.\" Setiap aturan dihitung dengan mengalikan nilai keanggotaan dari masing-masing kategori, sehingga menghasilkan sembilan nilai yang mewakili kekuatan dari setiap kombinasi kondisi. Output dari setiap aturan kemudian dikalikan dengan nilai output yang dihitung menggunakan fungsi linear, yang memberikan bobot pada Curah Hujan dan Kelembapan. Proses ini memungkinkan untuk menggabungkan semua kontribusi dari aturan fuzzy tersebut, menghasilkan satu nilai output akhir yang mencerminkan keputusan yang diambil berdasarkan kondisi input yang diberikan."
      ],
      "metadata": {
        "id": "ZocBEPg3Jykw"
      }
    },
    {
      "cell_type": "code",
      "source": [
        "def inferensi_sugeno(curah_hujan_value, kelembapan_value):\n",
        "    ch_rendah = curah_hujan_rendah(curah_hujan_value)\n",
        "    ch_sedang = curah_hujan_sedang(curah_hujan_value)\n",
        "    ch_tinggi = curah_hujan_tinggi(curah_hujan_value)\n",
        "\n",
        "    kl_rendah = kelembapan_rendah(kelembapan_value)\n",
        "    kl_sedang = kelembapan_sedang(kelembapan_value)\n",
        "    kl_tinggi = kelembapan_tinggi(kelembapan_value)\n",
        "\n",
        "    # Menghitung setiap aturan\n",
        "    rule1 = ch_rendah * kl_rendah\n",
        "    rule2 = ch_rendah * kl_sedang\n",
        "    rule3 = ch_rendah * kl_tinggi\n",
        "    rule4 = ch_sedang * kl_rendah\n",
        "    rule5 = ch_sedang * kl_sedang\n",
        "    rule6 = ch_sedang * kl_tinggi\n",
        "    rule7 = ch_tinggi * kl_rendah\n",
        "    rule8 = ch_tinggi * kl_sedang\n",
        "    rule9 = ch_tinggi * kl_tinggi\n",
        "\n",
        "    def linear_output(curah_hujan_value, kelembapan_value):\n",
        "        return 0.4 * curah_hujan_value + 0.6 * kelembapan_value + 1\n",
        "\n",
        "    output = (rule1 * linear_output(curah_hujan_value, kelembapan_value) +\n",
        "              rule2 * linear_output(curah_hujan_value, kelembapan_value) +\n",
        "              rule3 * linear_output(curah_hujan_value, kelembapan_value) +\n",
        "              rule4 * linear_output(curah_hujan_value, kelembapan_value) +\n",
        "              rule5 * linear_output(curah_hujan_value, kelembapan_value) +\n",
        "              rule6 * linear_output(curah_hujan_value, kelembapan_value) +\n",
        "              rule7 * linear_output(curah_hujan_value, kelembapan_value) +\n",
        "              rule8 * linear_output(curah_hujan_value, kelembapan_value) +\n",
        "              rule9 * linear_output(curah_hujan_value, kelembapan_value))\n",
        "\n",
        "    return output"
      ],
      "metadata": {
        "id": "GKUODF79X-XY"
      },
      "execution_count": null,
      "outputs": []
    },
    {
      "cell_type": "code",
      "source": [
        "# Menghitung produksi menggunakan metode Sugeno\n",
        "df_sugeno = df.copy()\n",
        "results_sugeno = []\n",
        "\n",
        "for _, row in df_sugeno.iterrows():\n",
        "    produksi = inferensi_sugeno(row['Curah hujan'], row['Kelembapan'])\n",
        "    results_sugeno.append({\n",
        "        'Provinsi': row['Provinsi'],\n",
        "        'Curah_Hujan': row['Curah hujan'],\n",
        "        'Kelembapan': row['Kelembapan'],\n",
        "        'Produksi_Prediksi': produksi\n",
        "    })\n",
        "\n",
        "output_sugeno = pd.DataFrame(results_sugeno)"
      ],
      "metadata": {
        "id": "9h5iugEAYNS8"
      },
      "execution_count": null,
      "outputs": []
    },
    {
      "cell_type": "code",
      "source": [
        "output_sugeno.head()"
      ],
      "metadata": {
        "colab": {
          "base_uri": "https://localhost:8080/",
          "height": 206
        },
        "id": "LUMI1DwtYccx",
        "outputId": "020d2b0e-bcd6-4298-cfda-46a2ee0c5e7d"
      },
      "execution_count": null,
      "outputs": [
        {
          "output_type": "execute_result",
          "data": {
            "text/plain": [
              "  Provinsi  Curah_Hujan  Kelembapan  Produksi_Prediksi\n",
              "0     Aceh       1627.0       82.00         278.904533\n",
              "1     Aceh       1521.0       82.12         331.489418\n",
              "2     Aceh       1476.0       82.72         296.180716\n",
              "3     Aceh       1557.0       83.00         278.511147\n",
              "4     Aceh       1339.0       82.46         199.739389"
            ],
            "text/html": [
              "\n",
              "  <div id=\"df-d2748d05-cf23-4a12-b119-8c906141f041\" class=\"colab-df-container\">\n",
              "    <div>\n",
              "<style scoped>\n",
              "    .dataframe tbody tr th:only-of-type {\n",
              "        vertical-align: middle;\n",
              "    }\n",
              "\n",
              "    .dataframe tbody tr th {\n",
              "        vertical-align: top;\n",
              "    }\n",
              "\n",
              "    .dataframe thead th {\n",
              "        text-align: right;\n",
              "    }\n",
              "</style>\n",
              "<table border=\"1\" class=\"dataframe\">\n",
              "  <thead>\n",
              "    <tr style=\"text-align: right;\">\n",
              "      <th></th>\n",
              "      <th>Provinsi</th>\n",
              "      <th>Curah_Hujan</th>\n",
              "      <th>Kelembapan</th>\n",
              "      <th>Produksi_Prediksi</th>\n",
              "    </tr>\n",
              "  </thead>\n",
              "  <tbody>\n",
              "    <tr>\n",
              "      <th>0</th>\n",
              "      <td>Aceh</td>\n",
              "      <td>1627.0</td>\n",
              "      <td>82.00</td>\n",
              "      <td>278.904533</td>\n",
              "    </tr>\n",
              "    <tr>\n",
              "      <th>1</th>\n",
              "      <td>Aceh</td>\n",
              "      <td>1521.0</td>\n",
              "      <td>82.12</td>\n",
              "      <td>331.489418</td>\n",
              "    </tr>\n",
              "    <tr>\n",
              "      <th>2</th>\n",
              "      <td>Aceh</td>\n",
              "      <td>1476.0</td>\n",
              "      <td>82.72</td>\n",
              "      <td>296.180716</td>\n",
              "    </tr>\n",
              "    <tr>\n",
              "      <th>3</th>\n",
              "      <td>Aceh</td>\n",
              "      <td>1557.0</td>\n",
              "      <td>83.00</td>\n",
              "      <td>278.511147</td>\n",
              "    </tr>\n",
              "    <tr>\n",
              "      <th>4</th>\n",
              "      <td>Aceh</td>\n",
              "      <td>1339.0</td>\n",
              "      <td>82.46</td>\n",
              "      <td>199.739389</td>\n",
              "    </tr>\n",
              "  </tbody>\n",
              "</table>\n",
              "</div>\n",
              "    <div class=\"colab-df-buttons\">\n",
              "\n",
              "  <div class=\"colab-df-container\">\n",
              "    <button class=\"colab-df-convert\" onclick=\"convertToInteractive('df-d2748d05-cf23-4a12-b119-8c906141f041')\"\n",
              "            title=\"Convert this dataframe to an interactive table.\"\n",
              "            style=\"display:none;\">\n",
              "\n",
              "  <svg xmlns=\"http://www.w3.org/2000/svg\" height=\"24px\" viewBox=\"0 -960 960 960\">\n",
              "    <path d=\"M120-120v-720h720v720H120Zm60-500h600v-160H180v160Zm220 220h160v-160H400v160Zm0 220h160v-160H400v160ZM180-400h160v-160H180v160Zm440 0h160v-160H620v160ZM180-180h160v-160H180v160Zm440 0h160v-160H620v160Z\"/>\n",
              "  </svg>\n",
              "    </button>\n",
              "\n",
              "  <style>\n",
              "    .colab-df-container {\n",
              "      display:flex;\n",
              "      gap: 12px;\n",
              "    }\n",
              "\n",
              "    .colab-df-convert {\n",
              "      background-color: #E8F0FE;\n",
              "      border: none;\n",
              "      border-radius: 50%;\n",
              "      cursor: pointer;\n",
              "      display: none;\n",
              "      fill: #1967D2;\n",
              "      height: 32px;\n",
              "      padding: 0 0 0 0;\n",
              "      width: 32px;\n",
              "    }\n",
              "\n",
              "    .colab-df-convert:hover {\n",
              "      background-color: #E2EBFA;\n",
              "      box-shadow: 0px 1px 2px rgba(60, 64, 67, 0.3), 0px 1px 3px 1px rgba(60, 64, 67, 0.15);\n",
              "      fill: #174EA6;\n",
              "    }\n",
              "\n",
              "    .colab-df-buttons div {\n",
              "      margin-bottom: 4px;\n",
              "    }\n",
              "\n",
              "    [theme=dark] .colab-df-convert {\n",
              "      background-color: #3B4455;\n",
              "      fill: #D2E3FC;\n",
              "    }\n",
              "\n",
              "    [theme=dark] .colab-df-convert:hover {\n",
              "      background-color: #434B5C;\n",
              "      box-shadow: 0px 1px 3px 1px rgba(0, 0, 0, 0.15);\n",
              "      filter: drop-shadow(0px 1px 2px rgba(0, 0, 0, 0.3));\n",
              "      fill: #FFFFFF;\n",
              "    }\n",
              "  </style>\n",
              "\n",
              "    <script>\n",
              "      const buttonEl =\n",
              "        document.querySelector('#df-d2748d05-cf23-4a12-b119-8c906141f041 button.colab-df-convert');\n",
              "      buttonEl.style.display =\n",
              "        google.colab.kernel.accessAllowed ? 'block' : 'none';\n",
              "\n",
              "      async function convertToInteractive(key) {\n",
              "        const element = document.querySelector('#df-d2748d05-cf23-4a12-b119-8c906141f041');\n",
              "        const dataTable =\n",
              "          await google.colab.kernel.invokeFunction('convertToInteractive',\n",
              "                                                    [key], {});\n",
              "        if (!dataTable) return;\n",
              "\n",
              "        const docLinkHtml = 'Like what you see? Visit the ' +\n",
              "          '<a target=\"_blank\" href=https://colab.research.google.com/notebooks/data_table.ipynb>data table notebook</a>'\n",
              "          + ' to learn more about interactive tables.';\n",
              "        element.innerHTML = '';\n",
              "        dataTable['output_type'] = 'display_data';\n",
              "        await google.colab.output.renderOutput(dataTable, element);\n",
              "        const docLink = document.createElement('div');\n",
              "        docLink.innerHTML = docLinkHtml;\n",
              "        element.appendChild(docLink);\n",
              "      }\n",
              "    </script>\n",
              "  </div>\n",
              "\n",
              "\n",
              "<div id=\"df-9562e1d1-bbad-4c36-b280-0ea2f48005ed\">\n",
              "  <button class=\"colab-df-quickchart\" onclick=\"quickchart('df-9562e1d1-bbad-4c36-b280-0ea2f48005ed')\"\n",
              "            title=\"Suggest charts\"\n",
              "            style=\"display:none;\">\n",
              "\n",
              "<svg xmlns=\"http://www.w3.org/2000/svg\" height=\"24px\"viewBox=\"0 0 24 24\"\n",
              "     width=\"24px\">\n",
              "    <g>\n",
              "        <path d=\"M19 3H5c-1.1 0-2 .9-2 2v14c0 1.1.9 2 2 2h14c1.1 0 2-.9 2-2V5c0-1.1-.9-2-2-2zM9 17H7v-7h2v7zm4 0h-2V7h2v10zm4 0h-2v-4h2v4z\"/>\n",
              "    </g>\n",
              "</svg>\n",
              "  </button>\n",
              "\n",
              "<style>\n",
              "  .colab-df-quickchart {\n",
              "      --bg-color: #E8F0FE;\n",
              "      --fill-color: #1967D2;\n",
              "      --hover-bg-color: #E2EBFA;\n",
              "      --hover-fill-color: #174EA6;\n",
              "      --disabled-fill-color: #AAA;\n",
              "      --disabled-bg-color: #DDD;\n",
              "  }\n",
              "\n",
              "  [theme=dark] .colab-df-quickchart {\n",
              "      --bg-color: #3B4455;\n",
              "      --fill-color: #D2E3FC;\n",
              "      --hover-bg-color: #434B5C;\n",
              "      --hover-fill-color: #FFFFFF;\n",
              "      --disabled-bg-color: #3B4455;\n",
              "      --disabled-fill-color: #666;\n",
              "  }\n",
              "\n",
              "  .colab-df-quickchart {\n",
              "    background-color: var(--bg-color);\n",
              "    border: none;\n",
              "    border-radius: 50%;\n",
              "    cursor: pointer;\n",
              "    display: none;\n",
              "    fill: var(--fill-color);\n",
              "    height: 32px;\n",
              "    padding: 0;\n",
              "    width: 32px;\n",
              "  }\n",
              "\n",
              "  .colab-df-quickchart:hover {\n",
              "    background-color: var(--hover-bg-color);\n",
              "    box-shadow: 0 1px 2px rgba(60, 64, 67, 0.3), 0 1px 3px 1px rgba(60, 64, 67, 0.15);\n",
              "    fill: var(--button-hover-fill-color);\n",
              "  }\n",
              "\n",
              "  .colab-df-quickchart-complete:disabled,\n",
              "  .colab-df-quickchart-complete:disabled:hover {\n",
              "    background-color: var(--disabled-bg-color);\n",
              "    fill: var(--disabled-fill-color);\n",
              "    box-shadow: none;\n",
              "  }\n",
              "\n",
              "  .colab-df-spinner {\n",
              "    border: 2px solid var(--fill-color);\n",
              "    border-color: transparent;\n",
              "    border-bottom-color: var(--fill-color);\n",
              "    animation:\n",
              "      spin 1s steps(1) infinite;\n",
              "  }\n",
              "\n",
              "  @keyframes spin {\n",
              "    0% {\n",
              "      border-color: transparent;\n",
              "      border-bottom-color: var(--fill-color);\n",
              "      border-left-color: var(--fill-color);\n",
              "    }\n",
              "    20% {\n",
              "      border-color: transparent;\n",
              "      border-left-color: var(--fill-color);\n",
              "      border-top-color: var(--fill-color);\n",
              "    }\n",
              "    30% {\n",
              "      border-color: transparent;\n",
              "      border-left-color: var(--fill-color);\n",
              "      border-top-color: var(--fill-color);\n",
              "      border-right-color: var(--fill-color);\n",
              "    }\n",
              "    40% {\n",
              "      border-color: transparent;\n",
              "      border-right-color: var(--fill-color);\n",
              "      border-top-color: var(--fill-color);\n",
              "    }\n",
              "    60% {\n",
              "      border-color: transparent;\n",
              "      border-right-color: var(--fill-color);\n",
              "    }\n",
              "    80% {\n",
              "      border-color: transparent;\n",
              "      border-right-color: var(--fill-color);\n",
              "      border-bottom-color: var(--fill-color);\n",
              "    }\n",
              "    90% {\n",
              "      border-color: transparent;\n",
              "      border-bottom-color: var(--fill-color);\n",
              "    }\n",
              "  }\n",
              "</style>\n",
              "\n",
              "  <script>\n",
              "    async function quickchart(key) {\n",
              "      const quickchartButtonEl =\n",
              "        document.querySelector('#' + key + ' button');\n",
              "      quickchartButtonEl.disabled = true;  // To prevent multiple clicks.\n",
              "      quickchartButtonEl.classList.add('colab-df-spinner');\n",
              "      try {\n",
              "        const charts = await google.colab.kernel.invokeFunction(\n",
              "            'suggestCharts', [key], {});\n",
              "      } catch (error) {\n",
              "        console.error('Error during call to suggestCharts:', error);\n",
              "      }\n",
              "      quickchartButtonEl.classList.remove('colab-df-spinner');\n",
              "      quickchartButtonEl.classList.add('colab-df-quickchart-complete');\n",
              "    }\n",
              "    (() => {\n",
              "      let quickchartButtonEl =\n",
              "        document.querySelector('#df-9562e1d1-bbad-4c36-b280-0ea2f48005ed button');\n",
              "      quickchartButtonEl.style.display =\n",
              "        google.colab.kernel.accessAllowed ? 'block' : 'none';\n",
              "    })();\n",
              "  </script>\n",
              "</div>\n",
              "\n",
              "    </div>\n",
              "  </div>\n"
            ],
            "application/vnd.google.colaboratory.intrinsic+json": {
              "type": "dataframe",
              "variable_name": "output_sugeno",
              "summary": "{\n  \"name\": \"output_sugeno\",\n  \"rows\": 224,\n  \"fields\": [\n    {\n      \"column\": \"Provinsi\",\n      \"properties\": {\n        \"dtype\": \"category\",\n        \"num_unique_values\": 8,\n        \"samples\": [\n          \"Sumatera Utara\",\n          \"Sumatera Selatan\",\n          \"Aceh\"\n        ],\n        \"semantic_type\": \"\",\n        \"description\": \"\"\n      }\n    },\n    {\n      \"column\": \"Curah_Hujan\",\n      \"properties\": {\n        \"dtype\": \"number\",\n        \"std\": 1031.9726245625448,\n        \"min\": 222.5,\n        \"max\": 5522.0,\n        \"num_unique_values\": 220,\n        \"samples\": [\n          1781.0,\n          2368.2,\n          3123.8\n        ],\n        \"semantic_type\": \"\",\n        \"description\": \"\"\n      }\n    },\n    {\n      \"column\": \"Kelembapan\",\n      \"properties\": {\n        \"dtype\": \"number\",\n        \"std\": 4.878679857345064,\n        \"min\": 54.2,\n        \"max\": 90.6,\n        \"num_unique_values\": 180,\n        \"samples\": [\n          79.6,\n          78.55,\n          82.52\n        ],\n        \"semantic_type\": \"\",\n        \"description\": \"\"\n      }\n    },\n    {\n      \"column\": \"Produksi_Prediksi\",\n      \"properties\": {\n        \"dtype\": \"number\",\n        \"std\": 344.0247328498387,\n        \"min\": 2.5449880002666885,\n        \"max\": 1964.6876640000003,\n        \"num_unique_values\": 223,\n        \"samples\": [\n          194.24521199999995,\n          282.6058629333334,\n          197.5645039500001\n        ],\n        \"semantic_type\": \"\",\n        \"description\": \"\"\n      }\n    }\n  ]\n}"
            }
          },
          "metadata": {},
          "execution_count": 108
        }
      ]
    },
    {
      "cell_type": "markdown",
      "source": [
        "#### **Analisis**\n",
        "\n",
        "Analisis menunjukkan bahwa Provinsi Aceh memiliki curah hujan dan kelembapan yang \"Sedang,\" yang berimplikasi pada prediksi hasil produksi yang \"Tinggi.\" Data dari metode Sugeno menunjukkan bahwa curah hujan 1627.90 mm dan kelembapan 82.00% dapat menghasilkan prediksi produksi sebesar 278.90 ton. Variabilitas dalam hasil menunjukkan bahwa meskipun curah hujan dan kelembapan serupa, faktor lain seperti teknik pertanian juga memengaruhi hasil. Grafik hasil prediksi memperlihatkan transisi antara kategori rendah, sedang, dan tinggi. Kedua metode, Mamdani dan Sugeno, memberikan wawasan dalam menganalisis pengaruh curah hujan dan kelembapan terhadap produksi padi, dengan Mamdani menawarkan pemahaman kualitatif dan Sugeno menyediakan data kuantitatif. Kombinasi keduanya dapat membantu merancang strategi pertanian yang lebih efektif dan berkelanjutan di Sumatera."
      ],
      "metadata": {
        "id": "5J7jMh9b1iHP"
      }
    },
    {
      "cell_type": "markdown",
      "source": [
        "## **Kesimpulan**\n",
        "\n",
        "Berdasarkan analisis yang dilakukan menggunakan sistem fuzzy Mamdani dan Sugeno untuk memprediksi hasil panen padi di Sumatera, dapat disimpulkan bahwa hasil prediksi produksi padi menunjukkan variasi berdasarkan kondisi curah hujan dan kelembapan. Metode Mamdani cenderung menghasilkan prediksi yang homogen, dengan sebagian besar entri berada pada kategori \"Tinggi,\" meskipun semua entri memiliki status curah hujan dan kelembapan yang sama (\"Sedang\"). Sebaliknya, output dari metode Sugeno memberikan nilai numerik yang lebih spesifik untuk produksi padi, dengan variasi antara 278.90 ton hingga 331.49 ton, menunjukkan bahwa metode ini dapat memberikan estimasi yang lebih terukur dan detail. Secara keseluruhan, kedua metode menunjukkan potensi dalam menganalisis dan memprediksi hasil produksi padi, namun hasilnya tidak dapat saling menggantikan. Masing-masing metode dapat digunakan secara komplementer untuk memberikan gambaran yang lebih komprehensif mengenai faktor-faktor yang mempengaruhi produksi padi di Sumatera."
      ],
      "metadata": {
        "id": "vIshBgnNuPkx"
      }
    }
  ]
}